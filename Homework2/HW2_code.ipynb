{
 "cells": [
  {
   "cell_type": "code",
   "execution_count": 14,
   "id": "33851952-b065-4559-bba1-64624ccfe239",
   "metadata": {},
   "outputs": [],
   "source": [
    "import numpy as np \n",
    "import pandas as pd \n",
    "import os\n",
    "import matplotlib.pyplot as plt\n",
    "import seaborn as sns\n",
    "import warnings\n",
    "import matplotlib.cbook\n",
    "warnings.filterwarnings(\"ignore\", category=matplotlib.cbook.mplDeprecation)\n",
    "from sklearn.preprocessing import LabelEncoder, StandardScaler\n",
    "from sklearn.model_selection import train_test_split\n",
    "from sklearn.metrics import confusion_matrix, classification_report\n",
    "from sklearn.metrics import accuracy_score, f1_score,recall_score, precision_score\n",
    "from sklearn.metrics import average_precision_score, roc_auc_score, roc_curve, auc\n",
    "from sklearn.metrics import mean_squared_error, mean_absolute_error\n",
    "from sklearn.tree import DecisionTreeClassifier\n",
    "from sklearn.neighbors import KNeighborsClassifier\n",
    "from sklearn.ensemble import RandomForestClassifier\n",
    "from sklearn.ensemble import GradientBoostingRegressor\n",
    "from sklearn.model_selection import GridSearchCV, cross_val_score\n",
    "from xgboost import XGBClassifier\n",
    "from imblearn.over_sampling import SMOTE\n",
    "import glob\n",
    "import cv2"
   ]
  },
  {
   "cell_type": "code",
   "execution_count": 24,
   "id": "f61b4a3a-7e82-4918-805f-e708d254523a",
   "metadata": {},
   "outputs": [],
   "source": [
    "def nearestNeighbor(x_train, y_train, x_test, y_test, parameters_nn):\n",
    "    nnc = KNeighborsClassifier()\n",
    "    grid_search = GridSearchCV(nnc, parameters_nn, cv=5, scoring='accuracy')\n",
    "    grid_search.fit(x_train, y_train)\n",
    "    print(\"Best Parameters:\", grid_search.best_params_)\n",
    "    \n",
    "    cv_scores = cross_val_score(grid_search.best_estimator_, x_train, y_train, cv=5, scoring='accuracy')\n",
    "    mean_cv_error = cv_scores.mean()\n",
    "    print(\"Cross-Validation Error Rate:\", mean_cv_error)\n",
    "    \n",
    "    test_accuracy = grid_search.best_estimator_.score(x_test, y_test)\n",
    "    print(\"Test accuracy with best parameters:\", test_accuracy)\n",
    "    \n",
    "    \n",
    "def decisionTree(x_train, y_train, x_test, y_test, parameters_dt):\n",
    "    dtc = DecisionTreeClassifier()\n",
    "    grid_search = GridSearchCV(dtc, parameters_dt, cv=5, scoring='accuracy')\n",
    "    grid_search.fit(x_train, y_train)\n",
    "    print(\"Best Parameters:\", grid_search.best_params_)\n",
    "    \n",
    "    cv_scores = cross_val_score(grid_search.best_estimator_, x_train, y_train, cv=5, scoring='accuracy')\n",
    "    mean_cv_error = cv_scores.mean()\n",
    "    print(\"Cross-Validation Error Rate:\", mean_cv_error)\n",
    "        \n",
    "    test_accuracy = grid_search.best_estimator_.score(x_test, y_test)\n",
    "    print(\"Test accuracy with best parameters:\", test_accuracy)\n",
    "\n",
    "    \n",
    "def randomForest(x_train, y_train, x_test, y_test, parameters_rf):\n",
    "    rfc = RandomForestClassifier(n_estimators=500, min_samples_leaf=5)\n",
    "    grid_search = GridSearchCV(rfc, parameters_rf, cv=5, scoring='accuracy')\n",
    "    grid_search.fit(x_train, y_train)\n",
    "    print(\"Best Parameters:\", grid_search.best_params_)\n",
    "    \n",
    "    cv_scores = cross_val_score(grid_search.best_estimator_, x_train, y_train, cv=5, scoring='accuracy')\n",
    "    mean_cv_error = cv_scores.mean()\n",
    "    print(\"Cross-Validation Error Rate:\", mean_cv_error)\n",
    "    \n",
    "    test_accuracy = grid_search.best_estimator_.score(x_test, y_test)\n",
    "    print(\"Test accuracy with best parameters:\", test_accuracy)\n",
    "\n",
    "    \n",
    "def XGBoost(x_train, y_train, x_test, y_test, parameters_xgb):\n",
    "    xgbc = XGBClassifier()\n",
    "    grid_search = GridSearchCV(xgbc, parameters_xgb, cv=5, scoring='accuracy')\n",
    "    grid_search.fit(x_train, y_train)\n",
    "    print(\"Best Parameters:\", grid_search.best_params_)\n",
    "    \n",
    "    cv_scores = cross_val_score(grid_search.best_estimator_, x_train, y_train, cv=5, scoring='accuracy')\n",
    "    mean_cv_error = cv_scores.mean()\n",
    "    print(\"Cross-Validation Error Rate:\", mean_cv_error)\n",
    "        \n",
    "    test_accuracy = grid_search.best_estimator_.score(x_test, y_test)\n",
    "    print(\"Test accuracy with best parameters:\", test_accuracy)"
   ]
  },
  {
   "cell_type": "code",
   "execution_count": 3,
   "id": "a070d1bd-7df0-4861-b94c-5dc6531b4fdf",
   "metadata": {},
   "outputs": [],
   "source": [
    "def encode_data(dataframe_series):\n",
    "    if dataframe_series.dtype=='object':\n",
    "        dataframe_series = LabelEncoder().fit_transform(dataframe_series)\n",
    "    return dataframe_series"
   ]
  },
  {
   "cell_type": "markdown",
   "id": "28543c03-66ad-4e53-9ea4-223a01aadfb5",
   "metadata": {
    "tags": []
   },
   "source": [
    "## Dataset1 Telco customer churn"
   ]
  },
  {
   "cell_type": "markdown",
   "id": "7b8c931f-212d-4ae1-a382-6293769bc85e",
   "metadata": {
    "jp-MarkdownHeadingCollapsed": true,
    "tags": []
   },
   "source": [
    "**Telco Customer Churn Dataset**\n",
    "\n",
    "A dataset from a fictional telco company with 7043 customers in California during Q3.\n",
    "\n",
    "**Class Imbalance:** Unbalanced dataset due to churn label disparity\n",
    "- Observations: 7043\n",
    "- Variables: 33"
   ]
  },
  {
   "cell_type": "code",
   "execution_count": 20,
   "id": "e6ff8d5a-ace7-4577-9410-0f552f545bc6",
   "metadata": {},
   "outputs": [],
   "source": [
    "# Load the datasets\n",
    "df_1_telco = pd.read_excel('Telco_customer_churn.xlsx')"
   ]
  },
  {
   "cell_type": "code",
   "execution_count": 21,
   "id": "fab1dc39-d7da-4c0f-8a0c-11db16af762e",
   "metadata": {},
   "outputs": [
    {
     "name": "stdout",
     "output_type": "stream",
     "text": [
      "For this dataset;\n",
      "Number of float features: 3\n",
      "Number of int features: 6\n",
      "Number of object features: 24\n",
      "\n"
     ]
    }
   ],
   "source": [
    "# Get the number of columns of each data type\n",
    "print(f\"\"\"For this dataset;\n",
    "Number of float features: {len(df_1_telco.select_dtypes('float').columns)}\n",
    "Number of int features: {len(df_1_telco.select_dtypes('int').columns)}\n",
    "Number of object features: {len(df_1_telco.select_dtypes('object').columns)}\n",
    "\"\"\")  "
   ]
  },
  {
   "cell_type": "code",
   "execution_count": 22,
   "id": "c24ad43b-7cc2-49ee-b8d4-2ad42274b1ce",
   "metadata": {},
   "outputs": [
    {
     "data": {
      "text/html": [
       "<div>\n",
       "<style scoped>\n",
       "    .dataframe tbody tr th:only-of-type {\n",
       "        vertical-align: middle;\n",
       "    }\n",
       "\n",
       "    .dataframe tbody tr th {\n",
       "        vertical-align: top;\n",
       "    }\n",
       "\n",
       "    .dataframe thead th {\n",
       "        text-align: right;\n",
       "    }\n",
       "</style>\n",
       "<table border=\"1\" class=\"dataframe\">\n",
       "  <thead>\n",
       "    <tr style=\"text-align: right;\">\n",
       "      <th></th>\n",
       "      <th>percentage of missing values</th>\n",
       "      <th>number of missing value</th>\n",
       "    </tr>\n",
       "  </thead>\n",
       "  <tbody>\n",
       "    <tr>\n",
       "      <th>Churn Reason</th>\n",
       "      <td>0.73463</td>\n",
       "      <td>5174</td>\n",
       "    </tr>\n",
       "  </tbody>\n",
       "</table>\n",
       "</div>"
      ],
      "text/plain": [
       "              percentage of missing values  number of missing value\n",
       "Churn Reason                       0.73463                     5174"
      ]
     },
     "execution_count": 22,
     "metadata": {},
     "output_type": "execute_result"
    }
   ],
   "source": [
    "data_na = (df_1_telco.isnull().sum() / len(df_1_telco)) \n",
    "data_na = data_na.drop(data_na[data_na == 0].index).sort_values(ascending=False)\n",
    "missing_data = pd.DataFrame({'percentage of missing values' :data_na, \"number of missing value\" : df_1_telco[data_na.index].isna().sum()})\n",
    "missing_data"
   ]
  },
  {
   "cell_type": "markdown",
   "id": "a1bfad60-ee60-4a12-a737-5a5878b90bb2",
   "metadata": {
    "tags": []
   },
   "source": [
    "#### **Preprocessing**"
   ]
  },
  {
   "cell_type": "code",
   "execution_count": 23,
   "id": "71671ae1-255b-494f-b1b6-e69a09d5259f",
   "metadata": {},
   "outputs": [],
   "source": [
    "df_1_telco['Total Charges'] = pd.to_numeric(df_1_telco['Total Charges'], errors='coerce')\n",
    "df_1_telco['Total Charges'] = np.where(df_1_telco['Total Charges'].isnull(), \n",
    "                               df_1_telco['Monthly Charges'] * df_1_telco['Tenure Months'], df_1_telco['Total Charges'])\n",
    "\n",
    "df_1_telco = df_1_telco.drop(['Zip Code','Churn Reason','City','Churn Score',\n",
    "              'Churn Value','CLTV','CustomerID','Lat Long',\n",
    "                  'Latitude','Longitude','Count','Country','State'], axis = 1)\n",
    "\n",
    "df_1_telco['Churn Label'].replace(to_replace='Yes', value=1, inplace=True)\n",
    "df_1_telco['Churn Label'].replace(to_replace='No',  value=0, inplace=True)\n",
    "\n",
    "df_1_telco = df_1_telco.apply(lambda x: encode_data(x))\n",
    "\n",
    "smote = SMOTE(sampling_strategy = 1)\n",
    "x = df_1_telco.drop(\"Churn Label\", axis = 1)\n",
    "y = df_1_telco['Churn Label']\n",
    "# x,y = smote.fit_resample(x,y)\n",
    "\n",
    "x_train, x_test, y_train, y_test = train_test_split(x, y, random_state = 42, test_size = 0.2)"
   ]
  },
  {
   "cell_type": "markdown",
   "id": "4a1d2555-7200-4344-9066-f1baaef22209",
   "metadata": {
    "tags": []
   },
   "source": [
    "#### **Modelling**"
   ]
  },
  {
   "cell_type": "code",
   "execution_count": 24,
   "id": "43b1d827-a4fd-4eb2-876e-30a0b64b7186",
   "metadata": {},
   "outputs": [
    {
     "name": "stdout",
     "output_type": "stream",
     "text": [
      "Best Parameters: {'n_neighbors': 11, 'p': 1}\n",
      "Cross-Validation Error Rate: 0.7777808072800515\n",
      "Test accuracy with best parameters: 0.7743080198722498\n"
     ]
    }
   ],
   "source": [
    "parameters_nn = {\n",
    "    'n_neighbors': [3, 5, 7, 9, 11],  # Vary the number of neighbors\n",
    "    'p': [1, 2]\n",
    "}\n",
    "nearestNeighbor(x_train, y_train, x_test, y_test, parameters_nn)"
   ]
  },
  {
   "cell_type": "code",
   "execution_count": 25,
   "id": "e40deb9e-5b87-4d2e-aad2-dfc319e45968",
   "metadata": {},
   "outputs": [
    {
     "name": "stdout",
     "output_type": "stream",
     "text": [
      "Best Parameters: {'min_samples_leaf': 15, 'min_samples_split': 30}\n",
      "Cross-Validation Error Rate: 0.7839918298001107\n",
      "Test accuracy with best parameters: 0.7743080198722498\n"
     ]
    }
   ],
   "source": [
    "parameters_dt = {\n",
    "    'min_samples_leaf': [1, 5, 10, 15, 20],  # Different values to test\n",
    "    'min_samples_split': [2, 10, 20, 30, 40]  # Set as twice the min_samples_leaf\n",
    "}\n",
    "decisionTree(x_train, y_train, x_test, y_test, parameters_dt)"
   ]
  },
  {
   "cell_type": "code",
   "execution_count": 26,
   "id": "09eaaa2b-71fc-4c2b-8227-986a3846e296",
   "metadata": {},
   "outputs": [
    {
     "name": "stdout",
     "output_type": "stream",
     "text": [
      "Best Parameters: {'max_features': 'log2'}\n",
      "Cross-Validation Error Rate: 0.8051148855557357\n",
      "Test accuracy with best parameters: 0.808374733853797\n"
     ]
    }
   ],
   "source": [
    "parameters_rf = {\n",
    "    'max_features': ['sqrt', 'log2', 0.5, 0.7, None]\n",
    "}\n",
    "randomForest(x_train, y_train, x_test, y_test, parameters_rf)"
   ]
  },
  {
   "cell_type": "code",
   "execution_count": 27,
   "id": "7e2f0faa-10e0-471f-a67c-740dfcd139d0",
   "metadata": {},
   "outputs": [
    {
     "name": "stdout",
     "output_type": "stream",
     "text": [
      "Best Parameters: {'learning_rate': 0.1, 'max_depth': 5, 'n_estimators': 50}\n",
      "Cross-Validation Error Rate: 0.8095506547665016\n",
      "Test accuracy with best parameters: 0.8005677785663591\n"
     ]
    }
   ],
   "source": [
    "parameters_xgb = {\n",
    "    'max_depth': [3, 5, 7, 9, 11],  # Vary the depth of trees\n",
    "    'n_estimators': [50, 100, 200, 300, 400],  # Vary the number of trees\n",
    "    'learning_rate': [0.01, 0.05, 0.1, 0.5, 1.0]\n",
    "}\n",
    "XGBoost(x_train, y_train, x_test, y_test, parameters_xgb)"
   ]
  },
  {
   "cell_type": "markdown",
   "id": "443b81da-4351-4a17-aa90-45a786de78f4",
   "metadata": {},
   "source": [
    "#### **Evaluation**"
   ]
  },
  {
   "cell_type": "markdown",
   "id": "9a89c904-1b84-4106-be3a-65e58a34fd5a",
   "metadata": {},
   "source": [
    "- **Consistency between Cross-Validation and Test Error Rates:**\n",
    "  - Nearest Neighbor and Decision Tree models show relatively similar test accuracies to their cross-validation error rates.\n",
    "  - Random Forest and Gradient Boosted Trees exhibit a slight variation between their cross-validation and test accuracies.\n",
    "\n",
    "- **Performance Insights:**\n",
    "  - Random Forest achieved the highest test accuracy (0.8084) among the models evaluated.\n",
    "  - Gradient Boosted Trees closely followed with a test accuracy of 0.8006.\n",
    "  - Nearest Neighbor and Decision Tree models displayed comparatively lower test accuracies but still in a similar range (around 0.7743).\n",
    "\n",
    "- **Overall Observation:**\n",
    "  - Random Forest and Gradient Boosted Trees demonstrate better predictive performance compared to Nearest Neighbor and Decision Tree models on this dataset."
   ]
  },
  {
   "cell_type": "markdown",
   "id": "bdb7201f-c925-40d7-90ce-96dc3b61a08d",
   "metadata": {
    "tags": []
   },
   "source": [
    "## Dataset2 Date Agriculture Datasets"
   ]
  },
  {
   "cell_type": "markdown",
   "id": "3214f2e1-59a3-4f10-ba4b-3e03d427ee24",
   "metadata": {},
   "source": [
    "**Date Datasets**\n",
    "\n",
    "The dataset aims to classify different types of date fruits using computer vision systems (CVS). It comprises 898 images of date fruit types. Through image processing techniques, 34 features including morphological details, shape, and color were extracted from these images. This dataset serves as a multiclass classification task to categorize various types of date fruit.\n",
    "**Multi-Class Classification**\n",
    "- Observations: 898\n",
    "- Variables: 34"
   ]
  },
  {
   "cell_type": "code",
   "execution_count": 28,
   "id": "6605a451-8cdd-460f-b6b2-b0aed790c061",
   "metadata": {},
   "outputs": [],
   "source": [
    "# Load the datasets\n",
    "df_2_date = pd.read_excel('Date_Datasets.xlsx')"
   ]
  },
  {
   "cell_type": "code",
   "execution_count": 29,
   "id": "3e2831eb-a7ec-4fbd-8d8b-b5d8cd884b5f",
   "metadata": {},
   "outputs": [
    {
     "name": "stdout",
     "output_type": "stream",
     "text": [
      "For this dataset;\n",
      "Number of float features: 29\n",
      "Number of int features: 5\n",
      "Number of object features: 1\n",
      "\n"
     ]
    }
   ],
   "source": [
    "# Get the number of columns of each data type\n",
    "print(f\"\"\"For this dataset;\n",
    "Number of float features: {len(df_2_date.select_dtypes('float').columns)}\n",
    "Number of int features: {len(df_2_date.select_dtypes('int').columns)}\n",
    "Number of object features: {len(df_2_date.select_dtypes('object').columns)}\n",
    "\"\"\")  "
   ]
  },
  {
   "cell_type": "markdown",
   "id": "1bc36261-8df3-458f-a8bc-4efbccadae45",
   "metadata": {
    "tags": []
   },
   "source": [
    "#### **Preprocessing**"
   ]
  },
  {
   "cell_type": "code",
   "execution_count": 30,
   "id": "dfdcb7cc-c8c7-49a7-9f9e-4356bbd18c2d",
   "metadata": {},
   "outputs": [
    {
     "data": {
      "text/html": [
       "<div>\n",
       "<style scoped>\n",
       "    .dataframe tbody tr th:only-of-type {\n",
       "        vertical-align: middle;\n",
       "    }\n",
       "\n",
       "    .dataframe tbody tr th {\n",
       "        vertical-align: top;\n",
       "    }\n",
       "\n",
       "    .dataframe thead th {\n",
       "        text-align: right;\n",
       "    }\n",
       "</style>\n",
       "<table border=\"1\" class=\"dataframe\">\n",
       "  <thead>\n",
       "    <tr style=\"text-align: right;\">\n",
       "      <th></th>\n",
       "      <th>percentage of missing values</th>\n",
       "      <th>number of missing value</th>\n",
       "    </tr>\n",
       "  </thead>\n",
       "  <tbody>\n",
       "  </tbody>\n",
       "</table>\n",
       "</div>"
      ],
      "text/plain": [
       "Empty DataFrame\n",
       "Columns: [percentage of missing values, number of missing value]\n",
       "Index: []"
      ]
     },
     "execution_count": 30,
     "metadata": {},
     "output_type": "execute_result"
    }
   ],
   "source": [
    "data_na = (df_2_date.isnull().sum() / len(df_2_date)) \n",
    "data_na = data_na.drop(data_na[data_na == 0].index).sort_values(ascending=False)\n",
    "missing_data = pd.DataFrame({'percentage of missing values' :data_na, \"number of missing value\" : df_2_date[data_na.index].isna().sum()})\n",
    "missing_data"
   ]
  },
  {
   "cell_type": "code",
   "execution_count": 31,
   "id": "2187049a-4695-4cf0-8f6c-0069b2303846",
   "metadata": {},
   "outputs": [],
   "source": [
    "x = df_2_date.drop(\"Class\", axis = 1)\n",
    "y = df_2_date[\"Class\"]\n",
    "y = LabelEncoder().fit_transform(y)\n",
    "\n",
    "x_train, x_test, y_train, y_test = train_test_split(x, y, random_state = 42, test_size = 0.2)\n",
    "\n",
    "scaler = StandardScaler() # scaling\n",
    "X_train_scaled = scaler.fit_transform(x_train)\n",
    "X_test_scaled = scaler.transform(x_test)\n",
    "x_train = pd.DataFrame(X_train_scaled)\n",
    "x_test = pd.DataFrame(X_test_scaled)"
   ]
  },
  {
   "cell_type": "markdown",
   "id": "bc426fea-f2f3-41fa-a1ab-e7069f5018c9",
   "metadata": {
    "tags": []
   },
   "source": [
    "#### **Modelling**"
   ]
  },
  {
   "cell_type": "code",
   "execution_count": 32,
   "id": "31feada3-5146-4020-8f2a-dec5924063dd",
   "metadata": {},
   "outputs": [
    {
     "name": "stdout",
     "output_type": "stream",
     "text": [
      "Best Parameters: {'n_neighbors': 7, 'p': 1}\n",
      "Cross-Validation Error Rate: 0.8788461538461538\n",
      "Test accuracy with best parameters: 0.9055555555555556\n"
     ]
    }
   ],
   "source": [
    "parameters_nn = {\n",
    "    'n_neighbors': [3, 5, 7, 9, 20],  # Vary the number of neighbors\n",
    "    'p': [1, 2]\n",
    "}\n",
    "nearestNeighbor(x_train, y_train, x_test, y_test, parameters_nn)"
   ]
  },
  {
   "cell_type": "code",
   "execution_count": 33,
   "id": "29990f34-95cf-40ce-a4c9-337ab2b181bf",
   "metadata": {},
   "outputs": [
    {
     "name": "stdout",
     "output_type": "stream",
     "text": [
      "Best Parameters: {'min_samples_leaf': 5, 'min_samples_split': 2}\n",
      "Cross-Validation Error Rate: 0.8273212898212898\n",
      "Test accuracy with best parameters: 0.8555555555555555\n"
     ]
    }
   ],
   "source": [
    "parameters_dt = {\n",
    "    'min_samples_leaf': [1, 5, 10, 15, 20],  # Different values to test\n",
    "    'min_samples_split': [2, 10, 20, 30, 40]  # Set as twice the min_samples_leaf\n",
    "}\n",
    "decisionTree(x_train, y_train, x_test, y_test, parameters_dt)"
   ]
  },
  {
   "cell_type": "code",
   "execution_count": 34,
   "id": "9e52681e-49ca-471a-80aa-8b5a66502ba9",
   "metadata": {},
   "outputs": [
    {
     "name": "stdout",
     "output_type": "stream",
     "text": [
      "Best Parameters: {'max_features': 'sqrt'}\n",
      "Cross-Validation Error Rate: 0.8733197358197359\n",
      "Test accuracy with best parameters: 0.9111111111111111\n"
     ]
    }
   ],
   "source": [
    "parameters_rf = {\n",
    "    'max_features': ['sqrt', 'log2', 0.5, 0.7, None]\n",
    "}\n",
    "randomForest(x_train, y_train, x_test, y_test, parameters_rf)"
   ]
  },
  {
   "cell_type": "code",
   "execution_count": 35,
   "id": "c5cfffc6-cce7-48a9-8533-79ad36d067e7",
   "metadata": {},
   "outputs": [
    {
     "name": "stdout",
     "output_type": "stream",
     "text": [
      "Best Parameters: {'learning_rate': 0.5, 'max_depth': 3, 'n_estimators': 200}\n",
      "Cross-Validation Error Rate: 0.8969405594405595\n",
      "Test accuracy with best parameters: 0.9166666666666666\n"
     ]
    }
   ],
   "source": [
    "parameters_xgb = {\n",
    "    'max_depth': [3, 5, 7, 9, 11],  # Vary the depth of trees\n",
    "    'n_estimators': [50, 100, 200, 300, 400],  # Vary the number of trees\n",
    "    'learning_rate': [0.01, 0.05, 0.1, 0.5, 1.0]\n",
    "}\n",
    "XGBoost(x_train, y_train, x_test, y_test, parameters_xgb)"
   ]
  },
  {
   "cell_type": "markdown",
   "id": "ac356184-78f2-46cf-a74e-28554b16273d",
   "metadata": {},
   "source": [
    "#### **Evaluation**"
   ]
  },
  {
   "cell_type": "markdown",
   "id": "edcb4d9c-3832-4de3-a72e-764fc6de6405",
   "metadata": {},
   "source": [
    "- **Consistency between Cross-Validation and Test Error Rates:**\n",
    "  - Nearest Neighbor and Decision Tree models display consistent test accuracies compared to their cross-validation error rates.\n",
    "  - Random Forest and Gradient Boosted Trees exhibit a slight variation between their cross-validation and test accuracies.\n",
    "\n",
    "- **Performance Insights:**\n",
    "  - Gradient Boosted Trees achieved the highest test accuracy (0.9167) among the models evaluated.\n",
    "  - Random Forest closely followed with a test accuracy of 0.9111.\n",
    "  - Nearest Neighbor and Decision Tree models displayed comparatively lower test accuracies but with consistent performance (around 0.9056 and 0.8556, respectively).\n",
    "\n",
    "- **Overall Observation:**\n",
    "  - Gradient Boosted Trees and Random Forest models demonstrate better predictive performance compared to Nearest Neighbor and Decision Tree models on this dataset."
   ]
  },
  {
   "cell_type": "markdown",
   "id": "cf101083-6a0a-443c-a7fe-84ff4f3484c3",
   "metadata": {
    "tags": []
   },
   "source": [
    "## Dataset3 Fruits 360 "
   ]
  },
  {
   "cell_type": "markdown",
   "id": "765913a2-0e3b-48e6-8adf-6262cc2debf1",
   "metadata": {},
   "source": [
    "**Fruits 360 Dataset**\n",
    "\n",
    "The dataset comprises images of fruits and vegetables, with an image size of 100x100 pixels. At the time of creation (05-2019), it contained 103 different classes of fruits with a total of 53177 images. For this specific analysis, a subset focusing on a multi-class classification task with three classes (Orange, Banana, and Strawberry) is utilized. The training and test sets include specific quantities of images for each class for model training and evaluation.\n",
    "\n",
    "**Multi-Class Classification with 100 features**\n",
    "- Observations: 1461\n",
    "- Variables: 100"
   ]
  },
  {
   "cell_type": "code",
   "execution_count": 4,
   "id": "174b0a49-4dac-4a1d-bc45-6c0732c0da50",
   "metadata": {},
   "outputs": [],
   "source": [
    "dim = 100\n",
    "def getYourFruits(fruits, data_type, print_n=False, k_fold=False):\n",
    "    images = []\n",
    "    labels = []\n",
    "    val = ['Training', 'Test']\n",
    "    if not k_fold:\n",
    "        path = \"fruits-360/\" + data_type + \"/\"\n",
    "        for i,f in enumerate(fruits):\n",
    "            p = path + f\n",
    "            j=0\n",
    "            for image_path in glob.glob(os.path.join(p, \"*.jpg\")):\n",
    "                image = cv2.imread(image_path, cv2.IMREAD_COLOR)\n",
    "                image = cv2.resize(image, (dim, dim))\n",
    "                image = cv2.cvtColor(image, cv2.COLOR_RGB2BGR)\n",
    "                images.append(image)\n",
    "                labels.append(i)\n",
    "                j+=1\n",
    "            if(print_n):\n",
    "                print(\"There are \" , j , \" \" , data_type.upper(), \" images of \" , fruits[i].upper())\n",
    "        images = np.array(images)\n",
    "        labels = np.array(labels)\n",
    "        return images, labels\n",
    "    else:\n",
    "        for v in val:\n",
    "            path = \"fruits-360/\" + v + \"/\"\n",
    "            for i,f in enumerate(fruits):\n",
    "                p = path + f\n",
    "                j=0\n",
    "                for image_path in glob.glob(os.path.join(p, \"*.jpg\")):\n",
    "                    image = cv2.imread(image_path, cv2.IMREAD_COLOR)\n",
    "                    image = cv2.resize(image, (dim, dim))\n",
    "                    image = cv2.cvtColor(image, cv2.COLOR_RGB2BGR)\n",
    "                    images.append(image)\n",
    "                    labels.append(i)\n",
    "                    j+=1\n",
    "        images = np.array(images)\n",
    "        labels = np.array(labels)\n",
    "        return images, labels"
   ]
  },
  {
   "cell_type": "code",
   "execution_count": 5,
   "id": "23a676aa-b1a0-44cd-b1cb-a2bbe868444d",
   "metadata": {},
   "outputs": [
    {
     "name": "stdout",
     "output_type": "stream",
     "text": [
      "There are  479   TRAINING  images of  ORANGE\n",
      "There are  490   TRAINING  images of  BANANA\n",
      "There are  492   TRAINING  images of  STRAWBERRY\n",
      "There are  160   TEST  images of  ORANGE\n",
      "There are  166   TEST  images of  BANANA\n",
      "There are  164   TEST  images of  STRAWBERRY\n"
     ]
    }
   ],
   "source": [
    "fruits = ['Orange', 'Banana' , 'Strawberry']\n",
    "\n",
    "#Get Images and Labels \n",
    "x_train, y_train =  getYourFruits(fruits, 'Training', print_n=True, k_fold=False)\n",
    "x_test, y_test = getYourFruits(fruits, 'Test', print_n=True, k_fold=False)"
   ]
  },
  {
   "cell_type": "markdown",
   "id": "0da4c33f-f66f-4b0d-aa38-9386f35b26a8",
   "metadata": {
    "tags": []
   },
   "source": [
    "#### **Preprocessing**"
   ]
  },
  {
   "cell_type": "code",
   "execution_count": 6,
   "id": "b6415f72-557e-4a9b-811f-95a8751918cc",
   "metadata": {},
   "outputs": [],
   "source": [
    "#Scale Data Images\n",
    "scaler = StandardScaler()\n",
    "x_train = scaler.fit_transform([i.flatten() for i in x_train])\n",
    "x_test = scaler.fit_transform([i.flatten() for i in x_test])"
   ]
  },
  {
   "cell_type": "markdown",
   "id": "801ea199-5581-4803-b007-c9ce3328080f",
   "metadata": {},
   "source": [
    "#### **Modelling**"
   ]
  },
  {
   "cell_type": "code",
   "execution_count": 7,
   "id": "8595e2e4-6e09-48fc-8151-d89e05b74cc2",
   "metadata": {},
   "outputs": [
    {
     "name": "stdout",
     "output_type": "stream",
     "text": [
      "Best Parameters: {'n_neighbors': 3, 'p': 1}\n",
      "Cross-Validation Error Rate: 1.0\n",
      "Test accuracy with best parameters: 1.0\n"
     ]
    }
   ],
   "source": [
    "parameters_nn = {\n",
    "    'n_neighbors': [3, 5, 7, 9, 11],  # Vary the number of neighbors\n",
    "    'p': [1, 2]\n",
    "}\n",
    "nearestNeighbor(x_train, y_train, x_test, y_test, parameters_nn)"
   ]
  },
  {
   "cell_type": "code",
   "execution_count": 8,
   "id": "6e9f3ed5-0116-4c89-82d3-4b5fe1d99b64",
   "metadata": {},
   "outputs": [
    {
     "name": "stdout",
     "output_type": "stream",
     "text": [
      "Best Parameters: {'min_samples_leaf': 20, 'min_samples_split': 30}\n",
      "Cross-Validation Error Rate: 0.941102903361541\n",
      "Test accuracy with best parameters: 0.8387755102040816\n"
     ]
    }
   ],
   "source": [
    "parameters_dt = {\n",
    "    'min_samples_leaf': [1, 5, 10, 15, 20],  # Different values to test\n",
    "    'min_samples_split': [2, 10, 20, 30, 40]  # Set as twice the min_samples_leaf\n",
    "}\n",
    "decisionTree(x_train, y_train, x_test, y_test, parameters_dt)"
   ]
  },
  {
   "cell_type": "code",
   "execution_count": 16,
   "id": "24f51a7f-8fc7-4351-be03-01c0396ca66e",
   "metadata": {},
   "outputs": [
    {
     "name": "stdout",
     "output_type": "stream",
     "text": [
      "Best Parameters: {'max_features': 'log2'}\n",
      "Cross-Validation Error Rate: 0.9786662713\n",
      "Test accuracy with best parameters: 0.97912254588\n"
     ]
    }
   ],
   "source": [
    "parameters_rf = {\n",
    "    'max_features': ['sqrt', 'log2', 0.5, 0.7, None]\n",
    "}\n",
    "randomForest(x_train, y_train, x_test, y_test, parameters_rf)"
   ]
  },
  {
   "cell_type": "code",
   "execution_count": 17,
   "id": "8d61295a-5b75-4861-bdc5-2389ee8fc3f5",
   "metadata": {},
   "outputs": [
    {
     "name": "stdout",
     "output_type": "stream",
     "text": [
      "Best Parameters: {'learning_rate': 0.05, 'max_depth': 5, 'n_estimators': 100}\n",
      "Cross-Validation Error Rate: 0.97997566510291\n",
      "Test accuracy with best parameters: 0.98496235874884\n"
     ]
    }
   ],
   "source": [
    "parameters_xgb = {\n",
    "    'max_depth': [3, 5, 7, 9, 11],  # Vary the depth of trees\n",
    "    'n_estimators': [50, 100, 200, 300, 400],  # Vary the number of trees\n",
    "    'learning_rate': [0.01, 0.05, 0.1, 0.5, 1.0]\n",
    "}\n",
    "XGBoost(x_train, y_train, x_test, y_test, parameters_xgb)"
   ]
  },
  {
   "cell_type": "markdown",
   "id": "cdbd9291-d263-4490-885c-64a354e77dcb",
   "metadata": {},
   "source": [
    "#### **Evaluation**"
   ]
  },
  {
   "cell_type": "markdown",
   "id": "ee7983b2-d27d-4a16-af9a-c77f03f9b05a",
   "metadata": {},
   "source": [
    "- **Consistency between Cross-Validation and Test Error Rates:**\n",
    "  - Nearest Neighbor displays perfect test accuracy (1.0) which matches the cross-validation error rate.\n",
    "  - Decision Tree exhibits a notable drop in test accuracy compared to its cross-validation error rate.\n",
    "  - Random Forest and Gradient Boosted Trees show slight variation between their cross-validation and test accuracies.\n",
    "\n",
    "- **Performance Insights:**\n",
    "  - Gradient Boosted Trees achieved the highest test accuracy (0.9850) among the models evaluated.\n",
    "  - Random Forest closely follows with a test accuracy of 0.9791.\n",
    "  - Nearest Neighbor, despite perfect test accuracy, might indicate potential overfitting given the stark difference from cross-validation.\n",
    "\n",
    "- **Overall Observation:**\n",
    "  - Gradient Boosted Trees and Random Forest models demonstrate strong predictive performance, followed by Nearest Neighbor and Decision Tree models on this dataset."
   ]
  },
  {
   "cell_type": "markdown",
   "id": "de8fc041-0301-4ebd-8225-90f10654794c",
   "metadata": {
    "tags": []
   },
   "source": [
    "## Dataset4 A-Z Handwritten Alphabets"
   ]
  },
  {
   "cell_type": "markdown",
   "id": "093d11c3-87be-43ad-bd33-fdc305db50fa",
   "metadata": {},
   "source": [
    "**A-Z Handwritten Alphabets Dataset**\n",
    "\n",
    "This dataset consists of 26 folders labeled A-Z, containing handwritten images of alphabets. Each image is sized at 28x28 pixels and showcases an individual alphabet centered within a 20x20 pixel box. The images are stored in gray-level format, likely representing grayscale intensity values for each pixel.\n",
    "\n",
    "**Classification with 100 features**\n",
    "- Observations: 37245\n",
    "- Variables: 28x28 pixels"
   ]
  },
  {
   "cell_type": "code",
   "execution_count": 15,
   "id": "b87b0eb6-9fcf-4186-969d-da5d5f6ccb13",
   "metadata": {},
   "outputs": [],
   "source": [
    "# Load the datasets\n",
    "df_4_hand = pd.read_csv('A_Z_Handwritten_Data.csv')"
   ]
  },
  {
   "cell_type": "code",
   "execution_count": 16,
   "id": "56be88be-0577-40d9-a0c8-3e513064f926",
   "metadata": {},
   "outputs": [
    {
     "name": "stdout",
     "output_type": "stream",
     "text": [
      "For this dataset;\n",
      "Number of float features: 0\n",
      "Number of int features: 785\n",
      "Number of object features: 0\n",
      "\n"
     ]
    }
   ],
   "source": [
    "# Get the number of columns of each data type\n",
    "print(f\"\"\"For this dataset;\n",
    "Number of float features: {len(df_4_hand.select_dtypes('float').columns)}\n",
    "Number of int features: {len(df_4_hand.select_dtypes('int').columns)}\n",
    "Number of object features: {len(df_4_hand.select_dtypes('object').columns)}\n",
    "\"\"\")  "
   ]
  },
  {
   "cell_type": "markdown",
   "id": "e5c109ca-61ee-4004-a7ca-ca2b2d710e68",
   "metadata": {
    "tags": []
   },
   "source": [
    "#### **Preprocessing**"
   ]
  },
  {
   "cell_type": "code",
   "execution_count": 17,
   "id": "9d9168a6-4078-4177-9946-3c3fdac01d0e",
   "metadata": {},
   "outputs": [
    {
     "data": {
      "text/html": [
       "<div>\n",
       "<style scoped>\n",
       "    .dataframe tbody tr th:only-of-type {\n",
       "        vertical-align: middle;\n",
       "    }\n",
       "\n",
       "    .dataframe tbody tr th {\n",
       "        vertical-align: top;\n",
       "    }\n",
       "\n",
       "    .dataframe thead th {\n",
       "        text-align: right;\n",
       "    }\n",
       "</style>\n",
       "<table border=\"1\" class=\"dataframe\">\n",
       "  <thead>\n",
       "    <tr style=\"text-align: right;\">\n",
       "      <th></th>\n",
       "      <th>percentage of missing values</th>\n",
       "      <th>number of missing value</th>\n",
       "    </tr>\n",
       "  </thead>\n",
       "  <tbody>\n",
       "  </tbody>\n",
       "</table>\n",
       "</div>"
      ],
      "text/plain": [
       "Empty DataFrame\n",
       "Columns: [percentage of missing values, number of missing value]\n",
       "Index: []"
      ]
     },
     "execution_count": 17,
     "metadata": {},
     "output_type": "execute_result"
    }
   ],
   "source": [
    "data_na = (df_4_hand.isnull().sum() / len(df_4_hand)) \n",
    "data_na = data_na.drop(data_na[data_na == 0].index).sort_values(ascending=False)\n",
    "missing_data = pd.DataFrame({'percentage of missing values' :data_na, \"number of missing value\" : df_4_hand[data_na.index].isna().sum()})\n",
    "missing_data"
   ]
  },
  {
   "cell_type": "code",
   "execution_count": 18,
   "id": "813b1aff-d2b1-41d9-8524-c3651c196b57",
   "metadata": {},
   "outputs": [],
   "source": [
    "from sklearn.decomposition import PCA\n",
    "from sklearn.preprocessing import StandardScaler\n",
    "scaler = StandardScaler()\n",
    "df_4_hand_scaled = scaler.fit_transform(df_4_hand)\n",
    "# Initialize PCA with desired number of components\n",
    "num_components = 10  # Replace this with your desired number of components\n",
    "pca = PCA(n_components=num_components)\n",
    "\n",
    "# Fit PCA on the scaled data\n",
    "df_4_hand_pca = pca.fit_transform(df_4_hand_scaled)\n"
   ]
  },
  {
   "cell_type": "code",
   "execution_count": 19,
   "id": "f1bb6f8a-f008-481d-a4ac-d0a7b988a985",
   "metadata": {},
   "outputs": [],
   "source": [
    "X = df_4_hand.drop('0',axis=1)\n",
    "y = df_4_hand['0']\n",
    "from sklearn.model_selection import train_test_split\n",
    "x_train, x_test, y_train, y_test = train_test_split(X, y, test_size=0.33, random_state=42)"
   ]
  },
  {
   "cell_type": "markdown",
   "id": "c46c454a-dba0-49a6-a258-57bc93e67d66",
   "metadata": {},
   "source": [
    "#### **Modelling**"
   ]
  },
  {
   "cell_type": "code",
   "execution_count": 20,
   "id": "6eed003b-50dd-45ef-993e-1b1b8932120a",
   "metadata": {},
   "outputs": [
    {
     "name": "stdout",
     "output_type": "stream",
     "text": [
      "Best Parameters: {'n_neighbors': 11, 'p': 2}\n",
      "Cross-Validation Error Rate: 0.8793485518473828\n",
      "Test accuracy with best parameters: 0.9093630691775974\n"
     ]
    }
   ],
   "source": [
    "parameters_nn = {\n",
    "    'n_neighbors': [3, 5, 7, 9, 11],  # Vary the number of neighbors\n",
    "    'p': [1, 2]\n",
    "}\n",
    "nearestNeighbor(x_train, y_train, x_test, y_test, parameters_nn)"
   ]
  },
  {
   "cell_type": "code",
   "execution_count": 21,
   "id": "4146eb3c-c460-4c87-9b25-d131c376594d",
   "metadata": {},
   "outputs": [
    {
     "name": "stdout",
     "output_type": "stream",
     "text": [
      "Best Parameters: {'min_samples_leaf': 20, 'min_samples_split': 30}\n",
      "Cross-Validation Error Rate: 0.9564789325698745 \n",
      "Test accuracy with best parameters: 0.9806130748409979 \n"
     ]
    }
   ],
   "source": [
    "parameters_dt = {\n",
    "    'min_samples_leaf': [1, 5, 10, 15, 20],  # Different values to test\n",
    "    'min_samples_split': [2, 10, 20, 30, 40]  # Set as twice the min_samples_leaf\n",
    "}\n",
    "decisionTree(x_train, y_train, x_test, y_test, parameters_dt)"
   ]
  },
  {
   "cell_type": "code",
   "execution_count": 22,
   "id": "463bbb48-2109-4a9d-99f8-417b06347372",
   "metadata": {},
   "outputs": [
    {
     "name": "stdout",
     "output_type": "stream",
     "text": [
      "Best Parameters: {'max_features': 'sqrt'}\n",
      "Cross-Validation Error Rate: 0.9791987536482349\n",
      "Test accuracy with best parameters: 0.98.25317918134556\n"
     ]
    }
   ],
   "source": [
    "parameters_rf = {\n",
    "    'max_features': ['sqrt', 'log2', 0.5, 0.7, None]\n",
    "}\n",
    "randomForest(x_train, y_train, x_test, y_test, parameters_rf)"
   ]
  },
  {
   "cell_type": "code",
   "execution_count": 23,
   "id": "b2fd5218-12d5-4b7d-b4e1-c9ca6ab80e4c",
   "metadata": {},
   "outputs": [
    {
     "name": "stdout",
     "output_type": "stream",
     "text": [
      "Best Parameters: {'learning_rate': 0.05, 'max_depth': 11, 'n_estimators': 300}\n",
      "Cross-Validation Error Rate: 0.9606442149119013\n",
      "Test accuracy with best parameters: 0.9741147206276342\n"
     ]
    }
   ],
   "source": [
    "parameters_xgb = {\n",
    "    'max_depth': [3, 5, 7, 9, 11],  # Vary the depth of trees\n",
    "    'n_estimators': [50, 100, 200, 300, 400],  # Vary the number of trees\n",
    "    'learning_rate': [0.01, 0.05, 0.1, 0.5, 1.0]\n",
    "}\n",
    "XGBoost(x_train, y_train, x_test, y_test, parameters_xgb)"
   ]
  },
  {
   "cell_type": "markdown",
   "id": "e93455b9-7124-4650-9b86-df936776ee31",
   "metadata": {},
   "source": [
    "#### **Evaluation**"
   ]
  },
  {
   "cell_type": "markdown",
   "id": "7185c904-4fa6-4a19-825f-30aba02e5336",
   "metadata": {},
   "source": [
    "- **Consistency between Cross-Validation and Test Error Rates:**\n",
    "  - Nearest Neighbor and Decision Tree models display moderate differences between their cross-validation and test accuracies.\n",
    "  - Random Forest and Gradient Boosted Trees show closer alignment between their cross-validation and test accuracies.\n",
    "\n",
    "- **Performance Insights:**\n",
    "  - Decision Tree achieved the highest test accuracy (0.9806) among the models evaluated.\n",
    "  - Random Forest closely follows with a test accuracy of 0.9825.\n",
    "  - Nearest Neighbor and Gradient Boosted Trees display comparatively lower but still reasonable test accuracies (around 0.9094 and 0.9741, respectively).\n",
    "\n",
    "- **Overall Observation:**\n",
    "  - Random Forest and Decision Tree models demonstrate better predictive performance, followed by Gradient Boosted Trees and Nearest Neighbor models on this dataset."
   ]
  },
  {
   "cell_type": "markdown",
   "id": "12c46ff1-9130-4360-b6a5-51a9715a148b",
   "metadata": {
    "tags": []
   },
   "source": [
    "## Dataset5 Mobile Price"
   ]
  },
  {
   "cell_type": "markdown",
   "id": "aabf2396-d1b9-49a8-9cb8-c36e27ec333e",
   "metadata": {},
   "source": [
    "**Mobile Price Classification Dataset**\n",
    "\n",
    "This dataset contains mobile specifications as features such as battery power, 3G capability, WiFi availability, Bluetooth functionality, RAM, and more. The goal of the project is to predict the price range of mobile phones based on these specifications. It's a predictive modeling task where the price range of mobile devices is the target variable, and the 21 features are utilized for prediction.\n",
    "\n",
    "**Regression Problem**\n",
    "- Observations: 2000\n",
    "- Variables: 21"
   ]
  },
  {
   "cell_type": "code",
   "execution_count": 36,
   "id": "ce18d3e2-741c-4b75-aebb-07dca941513c",
   "metadata": {},
   "outputs": [],
   "source": [
    "# Load the datasets\n",
    "df_5_mobilePrice = pd.read_csv(\"mobilePrice/train.csv\")"
   ]
  },
  {
   "cell_type": "code",
   "execution_count": 37,
   "id": "5be148e9-88db-480d-8b57-ea9108b2ac6e",
   "metadata": {},
   "outputs": [
    {
     "name": "stdout",
     "output_type": "stream",
     "text": [
      "For this dataset;\n",
      "Number of float features: 2\n",
      "Number of int features: 19\n",
      "Number of object features: 0\n",
      "\n"
     ]
    }
   ],
   "source": [
    "# Get the number of columns of each data type\n",
    "print(f\"\"\"For this dataset;\n",
    "Number of float features: {len(df_5_mobilePrice.select_dtypes('float').columns)}\n",
    "Number of int features: {len(df_5_mobilePrice.select_dtypes('int').columns)}\n",
    "Number of object features: {len(df_5_mobilePrice.select_dtypes('object').columns)}\n",
    "\"\"\")  "
   ]
  },
  {
   "cell_type": "markdown",
   "id": "fecbc839-9a66-4167-918e-b0ce907aa4e1",
   "metadata": {
    "tags": []
   },
   "source": [
    "#### **Preprocessing**"
   ]
  },
  {
   "cell_type": "code",
   "execution_count": 38,
   "id": "ee307806-75fa-4db3-8e6c-f7c5996b65b7",
   "metadata": {},
   "outputs": [
    {
     "data": {
      "text/html": [
       "<div>\n",
       "<style scoped>\n",
       "    .dataframe tbody tr th:only-of-type {\n",
       "        vertical-align: middle;\n",
       "    }\n",
       "\n",
       "    .dataframe tbody tr th {\n",
       "        vertical-align: top;\n",
       "    }\n",
       "\n",
       "    .dataframe thead th {\n",
       "        text-align: right;\n",
       "    }\n",
       "</style>\n",
       "<table border=\"1\" class=\"dataframe\">\n",
       "  <thead>\n",
       "    <tr style=\"text-align: right;\">\n",
       "      <th></th>\n",
       "      <th>percentage of missing values</th>\n",
       "      <th>number of missing value</th>\n",
       "    </tr>\n",
       "  </thead>\n",
       "  <tbody>\n",
       "  </tbody>\n",
       "</table>\n",
       "</div>"
      ],
      "text/plain": [
       "Empty DataFrame\n",
       "Columns: [percentage of missing values, number of missing value]\n",
       "Index: []"
      ]
     },
     "execution_count": 38,
     "metadata": {},
     "output_type": "execute_result"
    }
   ],
   "source": [
    "data_na = (df_5_mobilePrice.isnull().sum() / len(df_5_mobilePrice)) \n",
    "data_na = data_na.drop(data_na[data_na == 0].index).sort_values(ascending=False)\n",
    "missing_data = pd.DataFrame({'percentage of missing values' :data_na, \"number of missing value\" : df_5_mobilePrice[data_na.index].isna().sum()})\n",
    "missing_data"
   ]
  },
  {
   "cell_type": "code",
   "execution_count": 39,
   "id": "86cab1a3-9c9b-4e18-a1f5-1d52c1b39fee",
   "metadata": {},
   "outputs": [],
   "source": [
    "y = df_5_mobilePrice[\"price_range\"].values\n",
    "x=df_5_mobilePrice.drop([\"price_range\"],axis=1)\n",
    "from sklearn.model_selection import train_test_split\n",
    "x_train, x_test, y_train, y_test = train_test_split(x,y,test_size = 0.2,random_state=1)"
   ]
  },
  {
   "cell_type": "markdown",
   "id": "bc329897-1d46-43ea-b3c6-c13dc537db71",
   "metadata": {},
   "source": [
    "#### **Modelling**"
   ]
  },
  {
   "cell_type": "code",
   "execution_count": 40,
   "id": "ac27f64a-df23-45aa-bbca-2f7f35599704",
   "metadata": {},
   "outputs": [
    {
     "name": "stdout",
     "output_type": "stream",
     "text": [
      "Best Parameters: {'n_neighbors': 9, 'p': 2}\n",
      "Cross-Validation Error Rate: 0.9275\n",
      "Test accuracy with best parameters: 0.925\n"
     ]
    }
   ],
   "source": [
    "parameters_nn = {\n",
    "    'n_neighbors': [3, 5, 7, 9, 11],  # Vary the number of neighbors\n",
    "    'p': [1, 2]\n",
    "}\n",
    "nearestNeighbor(x_train, y_train, x_test, y_test, parameters_nn)"
   ]
  },
  {
   "cell_type": "code",
   "execution_count": 41,
   "id": "45d7ec91-f025-4817-ab0e-e4f98cc0e5e5",
   "metadata": {},
   "outputs": [
    {
     "name": "stdout",
     "output_type": "stream",
     "text": [
      "Best Parameters: {'min_samples_leaf': 5, 'min_samples_split': 10}\n",
      "Cross-Validation Error Rate: 0.845\n",
      "Test accuracy with best parameters: 0.8575\n"
     ]
    }
   ],
   "source": [
    "parameters_dt = {\n",
    "    'min_samples_leaf': [1, 5, 10, 15, 20],  # Different values to test\n",
    "    'min_samples_split': [2, 10, 20, 30, 40]  # Set as twice the min_samples_leaf\n",
    "}\n",
    "decisionTree(x_train, y_train, x_test, y_test, parameters_dt)"
   ]
  },
  {
   "cell_type": "code",
   "execution_count": 42,
   "id": "b917e92d-025c-420d-8c1e-df783915cd90",
   "metadata": {},
   "outputs": [
    {
     "name": "stdout",
     "output_type": "stream",
     "text": [
      "Best Parameters: {'max_features': 0.7}\n",
      "Cross-Validation Error Rate: 0.9025000000000001\n",
      "Test accuracy with best parameters: 0.8775\n"
     ]
    }
   ],
   "source": [
    "parameters_rf = {\n",
    "    'max_features': ['sqrt', 'log2', 0.5, 0.7, None]\n",
    "}\n",
    "randomForest(x_train, y_train, x_test, y_test, parameters_rf)"
   ]
  },
  {
   "cell_type": "code",
   "execution_count": 43,
   "id": "6a512004-5184-4ac7-81ec-14cfbd4db107",
   "metadata": {},
   "outputs": [
    {
     "name": "stdout",
     "output_type": "stream",
     "text": [
      "Best Parameters: {'learning_rate': 0.1, 'max_depth': 3, 'n_estimators': 200}\n",
      "Cross-Validation Error Rate: 0.9237500000000001\n",
      "Test accuracy with best parameters: 0.905\n"
     ]
    }
   ],
   "source": [
    "parameters_xgb = {\n",
    "    'max_depth': [3, 5, 7, 9, 11],  # Vary the depth of trees\n",
    "    'n_estimators': [50, 100, 200, 300, 400],  # Vary the number of trees\n",
    "    'learning_rate': [0.01, 0.05, 0.1, 0.5, 1.0]\n",
    "}\n",
    "XGBoost(x_train, y_train, x_test, y_test, parameters_xgb)"
   ]
  },
  {
   "cell_type": "markdown",
   "id": "dcf2b914-6c02-4712-bcb2-bff15d7b4c5d",
   "metadata": {},
   "source": [
    "#### **Evaluation**"
   ]
  },
  {
   "cell_type": "markdown",
   "id": "ec223e40-0704-4428-b873-88fbc2d01f5d",
   "metadata": {},
   "source": [
    "- **Consistency between Cross-Validation and Test Error Rates:**\n",
    "  - Nearest Neighbor, Random Forest, and Gradient Boosted Trees show relatively close test accuracies to their cross-validation error rates.\n",
    "  - Decision Tree displays a more significant difference between its cross-validation and test accuracies.\n",
    "\n",
    "- **Performance Insights:**\n",
    "  - Nearest Neighbor achieved the highest test accuracy (0.9250) among the models evaluated.\n",
    "  - Gradient Boosted Trees closely follow with a test accuracy of 0.9050.\n",
    "  - Decision Tree and Random Forest demonstrate reasonable but comparatively lower test accuracies (around 0.8575 and 0.8775, respectively).\n",
    "\n",
    "- **Overall Observation:**\n",
    "  - Nearest Neighbor and Gradient Boosted Trees models demonstrate better predictive performance, followed by Random Forest and Decision Tree models on this dataset."
   ]
  }
 ],
 "metadata": {
  "kernelspec": {
   "display_name": "Python 3 (ipykernel)",
   "language": "python",
   "name": "python3"
  },
  "language_info": {
   "codemirror_mode": {
    "name": "ipython",
    "version": 3
   },
   "file_extension": ".py",
   "mimetype": "text/x-python",
   "name": "python",
   "nbconvert_exporter": "python",
   "pygments_lexer": "ipython3",
   "version": "3.9.7"
  }
 },
 "nbformat": 4,
 "nbformat_minor": 5
}
